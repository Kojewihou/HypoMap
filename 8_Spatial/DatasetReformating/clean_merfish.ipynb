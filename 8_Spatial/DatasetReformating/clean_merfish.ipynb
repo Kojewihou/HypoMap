{
 "cells": [
  {
   "cell_type": "code",
   "execution_count": 1,
   "metadata": {},
   "outputs": [],
   "source": [
    "import scanpy as sc"
   ]
  },
  {
   "cell_type": "code",
   "execution_count": 2,
   "metadata": {},
   "outputs": [],
   "source": [
    "adata = sc.read_h5ad('../data/MERFISH_all_ccf.h5ad')"
   ]
  },
  {
   "cell_type": "code",
   "execution_count": 3,
   "metadata": {},
   "outputs": [],
   "source": [
    "obs_mapping = {\n",
    "    'donor_label': 'original_ID',\n",
    "    'x': 'x',\n",
    "    'y': 'y',\n",
    "    'z': 'z',\n",
    "    'x_ccf': 'x_ccf',\n",
    "    'y_ccf': 'y_ccf',\n",
    "    'z_ccf': 'z_ccf',\n",
    "    'brain_section_label': 'brain_section_label'\n",
    "}"
   ]
  },
  {
   "cell_type": "code",
   "execution_count": 4,
   "metadata": {},
   "outputs": [
    {
     "data": {
      "text/plain": [
       "['brain_section_label',\n",
       " 'donor_label',\n",
       " 'x',\n",
       " 'y',\n",
       " 'z',\n",
       " 'x_ccf',\n",
       " 'y_ccf',\n",
       " 'z_ccf']"
      ]
     },
     "execution_count": 4,
     "metadata": {},
     "output_type": "execute_result"
    }
   ],
   "source": [
    "valid_obs_keys = [k for k in adata.obs_keys() if k in obs_mapping.keys()]\n",
    "valid_obs_keys"
   ]
  },
  {
   "cell_type": "code",
   "execution_count": 5,
   "metadata": {},
   "outputs": [],
   "source": [
    "adata.obs = adata.obs[valid_obs_keys].rename(columns=obs_mapping)"
   ]
  },
  {
   "cell_type": "code",
   "execution_count": 6,
   "metadata": {},
   "outputs": [],
   "source": [
    "adata.obs['x_ccf'] = (adata.obs['x_ccf'])\n",
    "adata.obs['y_ccf'] = (adata.obs['y_ccf'])\n",
    "adata.obs['z_ccf'] = (adata.obs['z_ccf'])"
   ]
  },
  {
   "cell_type": "code",
   "execution_count": 7,
   "metadata": {},
   "outputs": [],
   "source": [
    "adata.obs['Technology'] = 'MERFISH'"
   ]
  },
  {
   "cell_type": "code",
   "execution_count": 8,
   "metadata": {},
   "outputs": [
    {
     "data": {
      "text/html": [
       "<div>\n",
       "<style scoped>\n",
       "    .dataframe tbody tr th:only-of-type {\n",
       "        vertical-align: middle;\n",
       "    }\n",
       "\n",
       "    .dataframe tbody tr th {\n",
       "        vertical-align: top;\n",
       "    }\n",
       "\n",
       "    .dataframe thead th {\n",
       "        text-align: right;\n",
       "    }\n",
       "</style>\n",
       "<table border=\"1\" class=\"dataframe\">\n",
       "  <thead>\n",
       "    <tr style=\"text-align: right;\">\n",
       "      <th></th>\n",
       "      <th>brain_section_label</th>\n",
       "      <th>original_ID</th>\n",
       "      <th>x</th>\n",
       "      <th>y</th>\n",
       "      <th>z</th>\n",
       "      <th>x_ccf</th>\n",
       "      <th>y_ccf</th>\n",
       "      <th>z_ccf</th>\n",
       "      <th>Technology</th>\n",
       "    </tr>\n",
       "    <tr>\n",
       "      <th>cell_label</th>\n",
       "      <th></th>\n",
       "      <th></th>\n",
       "      <th></th>\n",
       "      <th></th>\n",
       "      <th></th>\n",
       "      <th></th>\n",
       "      <th></th>\n",
       "      <th></th>\n",
       "      <th></th>\n",
       "    </tr>\n",
       "  </thead>\n",
       "  <tbody>\n",
       "    <tr>\n",
       "      <th>1019171911101460569</th>\n",
       "      <td>C57BL6J-638850.05</td>\n",
       "      <td>C57BL6J-638850</td>\n",
       "      <td>7.049393</td>\n",
       "      <td>7.672834</td>\n",
       "      <td>0.8</td>\n",
       "      <td>12.282330</td>\n",
       "      <td>6.987808</td>\n",
       "      <td>7.385773</td>\n",
       "      <td>MERFISH</td>\n",
       "    </tr>\n",
       "    <tr>\n",
       "      <th>1019171911101550321</th>\n",
       "      <td>C57BL6J-638850.05</td>\n",
       "      <td>C57BL6J-638850</td>\n",
       "      <td>4.450081</td>\n",
       "      <td>7.630694</td>\n",
       "      <td>0.8</td>\n",
       "      <td>12.192214</td>\n",
       "      <td>7.002155</td>\n",
       "      <td>4.366855</td>\n",
       "      <td>MERFISH</td>\n",
       "    </tr>\n",
       "    <tr>\n",
       "      <th>1019171911100841066</th>\n",
       "      <td>C57BL6J-638850.05</td>\n",
       "      <td>C57BL6J-638850</td>\n",
       "      <td>6.732956</td>\n",
       "      <td>5.669881</td>\n",
       "      <td>0.8</td>\n",
       "      <td>12.500341</td>\n",
       "      <td>4.750392</td>\n",
       "      <td>7.074634</td>\n",
       "      <td>MERFISH</td>\n",
       "    </tr>\n",
       "    <tr>\n",
       "      <th>1019171911101400425</th>\n",
       "      <td>C57BL6J-638850.05</td>\n",
       "      <td>C57BL6J-638850</td>\n",
       "      <td>4.238757</td>\n",
       "      <td>7.225909</td>\n",
       "      <td>0.8</td>\n",
       "      <td>12.231647</td>\n",
       "      <td>6.544816</td>\n",
       "      <td>4.128568</td>\n",
       "      <td>MERFISH</td>\n",
       "    </tr>\n",
       "    <tr>\n",
       "      <th>1019171911101380264</th>\n",
       "      <td>C57BL6J-638850.05</td>\n",
       "      <td>C57BL6J-638850</td>\n",
       "      <td>3.226935</td>\n",
       "      <td>6.847290</td>\n",
       "      <td>0.8</td>\n",
       "      <td>12.238502</td>\n",
       "      <td>6.135836</td>\n",
       "      <td>2.948194</td>\n",
       "      <td>MERFISH</td>\n",
       "    </tr>\n",
       "  </tbody>\n",
       "</table>\n",
       "</div>"
      ],
      "text/plain": [
       "                    brain_section_label     original_ID         x         y  \\\n",
       "cell_label                                                                    \n",
       "1019171911101460569   C57BL6J-638850.05  C57BL6J-638850  7.049393  7.672834   \n",
       "1019171911101550321   C57BL6J-638850.05  C57BL6J-638850  4.450081  7.630694   \n",
       "1019171911100841066   C57BL6J-638850.05  C57BL6J-638850  6.732956  5.669881   \n",
       "1019171911101400425   C57BL6J-638850.05  C57BL6J-638850  4.238757  7.225909   \n",
       "1019171911101380264   C57BL6J-638850.05  C57BL6J-638850  3.226935  6.847290   \n",
       "\n",
       "                       z      x_ccf     y_ccf     z_ccf Technology  \n",
       "cell_label                                                          \n",
       "1019171911101460569  0.8  12.282330  6.987808  7.385773    MERFISH  \n",
       "1019171911101550321  0.8  12.192214  7.002155  4.366855    MERFISH  \n",
       "1019171911100841066  0.8  12.500341  4.750392  7.074634    MERFISH  \n",
       "1019171911101400425  0.8  12.231647  6.544816  4.128568    MERFISH  \n",
       "1019171911101380264  0.8  12.238502  6.135836  2.948194    MERFISH  "
      ]
     },
     "execution_count": 8,
     "metadata": {},
     "output_type": "execute_result"
    }
   ],
   "source": [
    "adata.obs.head()"
   ]
  },
  {
   "cell_type": "code",
   "execution_count": 9,
   "metadata": {},
   "outputs": [],
   "source": [
    "adata.write_h5ad('../data/MERFISH-raw.h5ad')"
   ]
  }
 ],
 "metadata": {
  "kernelspec": {
   "display_name": "Python 3",
   "language": "python",
   "name": "python3"
  },
  "language_info": {
   "codemirror_mode": {
    "name": "ipython",
    "version": 3
   },
   "file_extension": ".py",
   "mimetype": "text/x-python",
   "name": "python",
   "nbconvert_exporter": "python",
   "pygments_lexer": "ipython3",
   "version": "3.1.-1"
  }
 },
 "nbformat": 4,
 "nbformat_minor": 2
}
