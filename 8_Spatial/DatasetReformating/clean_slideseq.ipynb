{
 "cells": [
  {
   "cell_type": "code",
   "execution_count": 1,
   "metadata": {},
   "outputs": [],
   "source": [
    "import scanpy as sc"
   ]
  },
  {
   "cell_type": "code",
   "execution_count": 2,
   "metadata": {},
   "outputs": [],
   "source": [
    "adata = sc.read_h5ad('../data/SlideSeq_all_ccf.h5ad')"
   ]
  },
  {
   "cell_type": "code",
   "execution_count": 3,
   "metadata": {},
   "outputs": [],
   "source": [
    "adata.obs['x_ccf'] = (adata.obs['x_ccf'] * 25) / 1000\n",
    "adata.obs['y_ccf'] = (adata.obs['y_ccf'] * 25) / 1000\n",
    "adata.obs['z_ccf'] = (adata.obs['z_ccf'] * 25) / 1000"
   ]
  },
  {
   "cell_type": "code",
   "execution_count": 4,
   "metadata": {},
   "outputs": [],
   "source": [
    "adata.obs.rename(columns={'PuckID': 'brain_section_label'}, inplace=True)"
   ]
  },
  {
   "cell_type": "code",
   "execution_count": 5,
   "metadata": {},
   "outputs": [],
   "source": [
    "adata.obs['Technology'] = 'SlideSeq'"
   ]
  },
  {
   "cell_type": "code",
   "execution_count": 6,
   "metadata": {},
   "outputs": [
    {
     "data": {
      "text/html": [
       "<div>\n",
       "<style scoped>\n",
       "    .dataframe tbody tr th:only-of-type {\n",
       "        vertical-align: middle;\n",
       "    }\n",
       "\n",
       "    .dataframe tbody tr th {\n",
       "        vertical-align: top;\n",
       "    }\n",
       "\n",
       "    .dataframe thead th {\n",
       "        text-align: right;\n",
       "    }\n",
       "</style>\n",
       "<table border=\"1\" class=\"dataframe\">\n",
       "  <thead>\n",
       "    <tr style=\"text-align: right;\">\n",
       "      <th></th>\n",
       "      <th>brain_section_label</th>\n",
       "      <th>x</th>\n",
       "      <th>y</th>\n",
       "      <th>Puck_Depth</th>\n",
       "      <th>x_ccf</th>\n",
       "      <th>y_ccf</th>\n",
       "      <th>z_ccf</th>\n",
       "      <th>x_nissl</th>\n",
       "      <th>y_nissl</th>\n",
       "      <th>original_ID</th>\n",
       "      <th>Technology</th>\n",
       "    </tr>\n",
       "  </thead>\n",
       "  <tbody>\n",
       "    <tr>\n",
       "      <th>MBASSdd1_AAAAAAAAAAAAAT-1</th>\n",
       "      <td>Puck_210203_17</td>\n",
       "      <td>8530.3</td>\n",
       "      <td>6821.6</td>\n",
       "      <td>MBASS_dd1</td>\n",
       "      <td>2.175</td>\n",
       "      <td>0.725</td>\n",
       "      <td>8.625</td>\n",
       "      <td>2672</td>\n",
       "      <td>2520</td>\n",
       "      <td>0</td>\n",
       "      <td>SlideSeq</td>\n",
       "    </tr>\n",
       "    <tr>\n",
       "      <th>MBASSdd1_CCCCTCATATCTGA-1</th>\n",
       "      <td>Puck_210203_17</td>\n",
       "      <td>4178.8</td>\n",
       "      <td>2461.6</td>\n",
       "      <td>MBASS_dd1</td>\n",
       "      <td>1.975</td>\n",
       "      <td>4.025</td>\n",
       "      <td>5.350</td>\n",
       "      <td>1480</td>\n",
       "      <td>1304</td>\n",
       "      <td>0</td>\n",
       "      <td>SlideSeq</td>\n",
       "    </tr>\n",
       "    <tr>\n",
       "      <th>MBASSdd1_CAACGGAAAAGCTA-1</th>\n",
       "      <td>Puck_210203_17</td>\n",
       "      <td>4309.9</td>\n",
       "      <td>2524.9</td>\n",
       "      <td>MBASS_dd1</td>\n",
       "      <td>2.000</td>\n",
       "      <td>3.850</td>\n",
       "      <td>5.425</td>\n",
       "      <td>1518</td>\n",
       "      <td>1321</td>\n",
       "      <td>0</td>\n",
       "      <td>SlideSeq</td>\n",
       "    </tr>\n",
       "    <tr>\n",
       "      <th>MBASSdd1_AAGTCAGTTTAAAG-1</th>\n",
       "      <td>Puck_210203_17</td>\n",
       "      <td>3410.0</td>\n",
       "      <td>3759.0</td>\n",
       "      <td>MBASS_dd1</td>\n",
       "      <td>1.950</td>\n",
       "      <td>4.900</td>\n",
       "      <td>6.475</td>\n",
       "      <td>1268</td>\n",
       "      <td>1662</td>\n",
       "      <td>0</td>\n",
       "      <td>SlideSeq</td>\n",
       "    </tr>\n",
       "    <tr>\n",
       "      <th>MBASSdd1_GCACCCCTAGTCGN-1</th>\n",
       "      <td>Puck_210203_17</td>\n",
       "      <td>5104.1</td>\n",
       "      <td>1361.6</td>\n",
       "      <td>MBASS_dd1</td>\n",
       "      <td>2.025</td>\n",
       "      <td>3.025</td>\n",
       "      <td>4.625</td>\n",
       "      <td>1725</td>\n",
       "      <td>1013</td>\n",
       "      <td>0</td>\n",
       "      <td>SlideSeq</td>\n",
       "    </tr>\n",
       "  </tbody>\n",
       "</table>\n",
       "</div>"
      ],
      "text/plain": [
       "                          brain_section_label       x       y Puck_Depth  \\\n",
       "MBASSdd1_AAAAAAAAAAAAAT-1      Puck_210203_17  8530.3  6821.6  MBASS_dd1   \n",
       "MBASSdd1_CCCCTCATATCTGA-1      Puck_210203_17  4178.8  2461.6  MBASS_dd1   \n",
       "MBASSdd1_CAACGGAAAAGCTA-1      Puck_210203_17  4309.9  2524.9  MBASS_dd1   \n",
       "MBASSdd1_AAGTCAGTTTAAAG-1      Puck_210203_17  3410.0  3759.0  MBASS_dd1   \n",
       "MBASSdd1_GCACCCCTAGTCGN-1      Puck_210203_17  5104.1  1361.6  MBASS_dd1   \n",
       "\n",
       "                           x_ccf  y_ccf  z_ccf  x_nissl  y_nissl  original_ID  \\\n",
       "MBASSdd1_AAAAAAAAAAAAAT-1  2.175  0.725  8.625     2672     2520            0   \n",
       "MBASSdd1_CCCCTCATATCTGA-1  1.975  4.025  5.350     1480     1304            0   \n",
       "MBASSdd1_CAACGGAAAAGCTA-1  2.000  3.850  5.425     1518     1321            0   \n",
       "MBASSdd1_AAGTCAGTTTAAAG-1  1.950  4.900  6.475     1268     1662            0   \n",
       "MBASSdd1_GCACCCCTAGTCGN-1  2.025  3.025  4.625     1725     1013            0   \n",
       "\n",
       "                          Technology  \n",
       "MBASSdd1_AAAAAAAAAAAAAT-1   SlideSeq  \n",
       "MBASSdd1_CCCCTCATATCTGA-1   SlideSeq  \n",
       "MBASSdd1_CAACGGAAAAGCTA-1   SlideSeq  \n",
       "MBASSdd1_AAGTCAGTTTAAAG-1   SlideSeq  \n",
       "MBASSdd1_GCACCCCTAGTCGN-1   SlideSeq  "
      ]
     },
     "execution_count": 6,
     "metadata": {},
     "output_type": "execute_result"
    }
   ],
   "source": [
    "adata.obs.head()"
   ]
  },
  {
   "cell_type": "code",
   "execution_count": 7,
   "metadata": {},
   "outputs": [],
   "source": [
    "adata.write('../data/SlideSeq-raw.h5ad')"
   ]
  }
 ],
 "metadata": {
  "kernelspec": {
   "display_name": "Python 3",
   "language": "python",
   "name": "python3"
  },
  "language_info": {
   "codemirror_mode": {
    "name": "ipython",
    "version": 3
   },
   "file_extension": ".py",
   "mimetype": "text/x-python",
   "name": "python",
   "nbconvert_exporter": "python",
   "pygments_lexer": "ipython3",
   "version": "3.1.-1"
  }
 },
 "nbformat": 4,
 "nbformat_minor": 2
}
