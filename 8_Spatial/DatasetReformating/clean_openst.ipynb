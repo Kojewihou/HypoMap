{
 "cells": [
  {
   "cell_type": "code",
   "execution_count": 1,
   "metadata": {},
   "outputs": [],
   "source": [
    "import scanpy as sc\n",
    "\n",
    "import numpy as np"
   ]
  },
  {
   "cell_type": "code",
   "execution_count": 2,
   "metadata": {},
   "outputs": [],
   "source": [
    "adata = sc.read_h5ad('../data/OpenST_all_ccf.h5ad')"
   ]
  },
  {
   "cell_type": "code",
   "execution_count": 3,
   "metadata": {},
   "outputs": [],
   "source": [
    "obs_mapping = {\n",
    "    'ccf_x': 'x_ccf',\n",
    "    'ccf_y': 'y_ccf',\n",
    "    'ccf_z': 'z_ccf',\n",
    "    'x_pos': 'x',\n",
    "    'y_pos': 'y',\n",
    "    'x_rot': 'x_rot',\n",
    "    'y_rot': 'y_rot',\n",
    "    'Batch_ID': 'brain_section_label',\n",
    "    'orig.ident': 'original_ID'\n",
    "}"
   ]
  },
  {
   "cell_type": "code",
   "execution_count": 4,
   "metadata": {},
   "outputs": [],
   "source": [
    "valid_obs_keys = [k for k in adata.obs_keys() if k in obs_mapping.keys()]"
   ]
  },
  {
   "cell_type": "code",
   "execution_count": 5,
   "metadata": {},
   "outputs": [],
   "source": [
    "adata.obs = adata.obs[valid_obs_keys].rename(columns=obs_mapping)"
   ]
  },
  {
   "cell_type": "code",
   "execution_count": 6,
   "metadata": {},
   "outputs": [],
   "source": [
    "adata.obs['x_ccf'] = (adata.obs['x_ccf'])\n",
    "adata.obs['y_ccf'] = (adata.obs['y_ccf'])\n",
    "adata.obs['z_ccf'] = (adata.obs['z_ccf'])"
   ]
  },
  {
   "cell_type": "code",
   "execution_count": 7,
   "metadata": {},
   "outputs": [],
   "source": [
    "del adata.layers['data']"
   ]
  },
  {
   "cell_type": "code",
   "execution_count": 9,
   "metadata": {},
   "outputs": [],
   "source": [
    "adata.obs['Technology'] = 'OpenST'"
   ]
  },
  {
   "cell_type": "code",
   "execution_count": 11,
   "metadata": {},
   "outputs": [
    {
     "data": {
      "text/html": [
       "<div>\n",
       "<style scoped>\n",
       "    .dataframe tbody tr th:only-of-type {\n",
       "        vertical-align: middle;\n",
       "    }\n",
       "\n",
       "    .dataframe tbody tr th {\n",
       "        vertical-align: top;\n",
       "    }\n",
       "\n",
       "    .dataframe thead th {\n",
       "        text-align: right;\n",
       "    }\n",
       "</style>\n",
       "<table border=\"1\" class=\"dataframe\">\n",
       "  <thead>\n",
       "    <tr style=\"text-align: right;\">\n",
       "      <th></th>\n",
       "      <th>original_ID</th>\n",
       "      <th>x</th>\n",
       "      <th>y</th>\n",
       "      <th>x_rot</th>\n",
       "      <th>y_rot</th>\n",
       "      <th>brain_section_label</th>\n",
       "      <th>x_ccf</th>\n",
       "      <th>y_ccf</th>\n",
       "      <th>z_ccf</th>\n",
       "      <th>Technology</th>\n",
       "    </tr>\n",
       "  </thead>\n",
       "  <tbody>\n",
       "    <tr>\n",
       "      <th>fc_sts_079_2_160</th>\n",
       "      <td>fc</td>\n",
       "      <td>19.880165</td>\n",
       "      <td>7213.670110</td>\n",
       "      <td>1967.201289</td>\n",
       "      <td>1785.602945</td>\n",
       "      <td>fc_sts_079_2</td>\n",
       "      <td>6.018229</td>\n",
       "      <td>7.639754</td>\n",
       "      <td>7.092709</td>\n",
       "      <td>OpenST</td>\n",
       "    </tr>\n",
       "    <tr>\n",
       "      <th>fc_sts_079_2_164</th>\n",
       "      <td>fc</td>\n",
       "      <td>19.445238</td>\n",
       "      <td>7281.553968</td>\n",
       "      <td>1900.273215</td>\n",
       "      <td>1796.962533</td>\n",
       "      <td>fc_sts_079_2</td>\n",
       "      <td>6.018229</td>\n",
       "      <td>7.637824</td>\n",
       "      <td>7.119785</td>\n",
       "      <td>OpenST</td>\n",
       "    </tr>\n",
       "    <tr>\n",
       "      <th>fc_sts_079_2_196</th>\n",
       "      <td>fc</td>\n",
       "      <td>17.185036</td>\n",
       "      <td>7557.054706</td>\n",
       "      <td>1628.565472</td>\n",
       "      <td>1842.576870</td>\n",
       "      <td>fc_sts_079_2</td>\n",
       "      <td>6.018229</td>\n",
       "      <td>7.627984</td>\n",
       "      <td>7.232575</td>\n",
       "      <td>OpenST</td>\n",
       "    </tr>\n",
       "    <tr>\n",
       "      <th>fc_sts_079_2_214</th>\n",
       "      <td>fc</td>\n",
       "      <td>15.500000</td>\n",
       "      <td>9559.831382</td>\n",
       "      <td>-344.077129</td>\n",
       "      <td>2188.695953</td>\n",
       "      <td>fc_sts_079_2</td>\n",
       "      <td>6.018229</td>\n",
       "      <td>7.433243</td>\n",
       "      <td>8.191346</td>\n",
       "      <td>OpenST</td>\n",
       "    </tr>\n",
       "    <tr>\n",
       "      <th>fc_sts_079_2_241</th>\n",
       "      <td>fc</td>\n",
       "      <td>19.245223</td>\n",
       "      <td>9394.700637</td>\n",
       "      <td>-180.804740</td>\n",
       "      <td>2163.709625</td>\n",
       "      <td>fc_sts_079_2</td>\n",
       "      <td>6.018229</td>\n",
       "      <td>7.445210</td>\n",
       "      <td>8.111561</td>\n",
       "      <td>OpenST</td>\n",
       "    </tr>\n",
       "  </tbody>\n",
       "</table>\n",
       "</div>"
      ],
      "text/plain": [
       "                 original_ID          x            y        x_rot  \\\n",
       "fc_sts_079_2_160          fc  19.880165  7213.670110  1967.201289   \n",
       "fc_sts_079_2_164          fc  19.445238  7281.553968  1900.273215   \n",
       "fc_sts_079_2_196          fc  17.185036  7557.054706  1628.565472   \n",
       "fc_sts_079_2_214          fc  15.500000  9559.831382  -344.077129   \n",
       "fc_sts_079_2_241          fc  19.245223  9394.700637  -180.804740   \n",
       "\n",
       "                        y_rot brain_section_label     x_ccf     y_ccf  \\\n",
       "fc_sts_079_2_160  1785.602945        fc_sts_079_2  6.018229  7.639754   \n",
       "fc_sts_079_2_164  1796.962533        fc_sts_079_2  6.018229  7.637824   \n",
       "fc_sts_079_2_196  1842.576870        fc_sts_079_2  6.018229  7.627984   \n",
       "fc_sts_079_2_214  2188.695953        fc_sts_079_2  6.018229  7.433243   \n",
       "fc_sts_079_2_241  2163.709625        fc_sts_079_2  6.018229  7.445210   \n",
       "\n",
       "                     z_ccf Technology  \n",
       "fc_sts_079_2_160  7.092709     OpenST  \n",
       "fc_sts_079_2_164  7.119785     OpenST  \n",
       "fc_sts_079_2_196  7.232575     OpenST  \n",
       "fc_sts_079_2_214  8.191346     OpenST  \n",
       "fc_sts_079_2_241  8.111561     OpenST  "
      ]
     },
     "execution_count": 11,
     "metadata": {},
     "output_type": "execute_result"
    }
   ],
   "source": [
    "adata.obs.head()"
   ]
  },
  {
   "cell_type": "code",
   "execution_count": 10,
   "metadata": {},
   "outputs": [],
   "source": [
    "adata.write_h5ad('../data/OpenST-raw.h5ad')"
   ]
  }
 ],
 "metadata": {
  "kernelspec": {
   "display_name": "Python 3",
   "language": "python",
   "name": "python3"
  },
  "language_info": {
   "codemirror_mode": {
    "name": "ipython",
    "version": 3
   },
   "file_extension": ".py",
   "mimetype": "text/x-python",
   "name": "python",
   "nbconvert_exporter": "python",
   "pygments_lexer": "ipython3",
   "version": "3.11.9"
  }
 },
 "nbformat": 4,
 "nbformat_minor": 2
}
