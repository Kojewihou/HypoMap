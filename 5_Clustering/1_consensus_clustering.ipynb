{
 "cells": [
  {
   "cell_type": "code",
   "execution_count": 20,
   "metadata": {},
   "outputs": [],
   "source": [
    "from concurrent.futures import ProcessPoolExecutor\n",
    "\n",
    "import numpy as np\n",
    "import pandas as pd\n",
    "import scanpy as sc\n",
    "\n",
    "from ccHBGF import ccHBGF"
   ]
  },
  {
   "cell_type": "code",
   "execution_count": 21,
   "metadata": {},
   "outputs": [],
   "source": [
    "from clustering_utils import igraph_leiden"
   ]
  },
  {
   "cell_type": "markdown",
   "metadata": {},
   "source": [
    "### Lets define our hyperparameters"
   ]
  },
  {
   "cell_type": "code",
   "execution_count": 22,
   "metadata": {},
   "outputs": [],
   "source": [
    "NSEEDS = 100\n",
    "RESOLUTION = 8\n",
    "NWORKERS = 20\n",
    "\n",
    "ADATA_PATH = '../data/v0.3_clean_control/datasets/neuronal_raw_embed_propagated.h5ad'"
   ]
  },
  {
   "cell_type": "markdown",
   "metadata": {},
   "source": [
    "### Lets load the dataset"
   ]
  },
  {
   "cell_type": "code",
   "execution_count": null,
   "metadata": {},
   "outputs": [],
   "source": [
    "# adata = sc.read_h5ad(ADATA_PATH, backed='r')\n",
    "adata = sc.read_h5ad(ADATA_PATH)\n",
    "adata"
   ]
  },
  {
   "cell_type": "markdown",
   "metadata": {},
   "source": [
    "### Lets get the adjacency matrix"
   ]
  },
  {
   "cell_type": "code",
   "execution_count": 24,
   "metadata": {},
   "outputs": [],
   "source": [
    "connectivities_key = adata.uns['neighbors']['connectivities_key']\n",
    "adata_igraph = sc._utils.get_igraph_from_adjacency(adata.obsp[connectivities_key])"
   ]
  },
  {
   "cell_type": "markdown",
   "metadata": {},
   "source": [
    "### Lets run the Leiden Community Detection"
   ]
  },
  {
   "cell_type": "code",
   "execution_count": 25,
   "metadata": {},
   "outputs": [],
   "source": [
    "labels_matrix = np.zeros((adata.shape[0], NSEEDS))"
   ]
  },
  {
   "cell_type": "code",
   "execution_count": 26,
   "metadata": {},
   "outputs": [],
   "source": [
    "def compute_leiden(seed):\n",
    "    \"\"\"Wrapper function for Leiden clustering with a specific random seed.\"\"\"\n",
    "    return igraph_leiden(adata_igraph, RESOLUTION, random_state=seed)\n",
    "\n",
    "# Initialize a pool of processes\n",
    "with ProcessPoolExecutor(max_workers=NWORKERS) as executor:\n",
    "    results = executor.map(compute_leiden, range(NSEEDS))\n",
    "\n",
    "# Populate the labels_matrix with the results\n",
    "for i, labels in enumerate(results):\n",
    "    labels_matrix[:, i] = labels"
   ]
  },
  {
   "cell_type": "markdown",
   "metadata": {},
   "source": [
    "### Lets check for singleton clusters"
   ]
  },
  {
   "cell_type": "code",
   "execution_count": 27,
   "metadata": {},
   "outputs": [],
   "source": [
    "def get_singleton_mask(arr, count_treshold):\n",
    "    \n",
    "    mask = np.zeros_like(arr, dtype=bool)\n",
    "\n",
    "    # Any cluster with < count_threshold is a singleton\n",
    "    for col_idx in range(arr.shape[1]):\n",
    "\n",
    "        unique_values, counts = np.unique(arr[:, col_idx], return_counts=True)\n",
    "        value_counts = dict(zip(unique_values, counts))\n",
    "        \n",
    "        for value, count in value_counts.items():\n",
    "            if count < count_treshold:\n",
    "                mask[:, col_idx] |= (arr[:, col_idx] == value)\n",
    "\n",
    "    # If a cells is always within a singleton, then flag it\n",
    "    final_mask = np.any(mask, axis=1)\n",
    "    \n",
    "    return final_mask"
   ]
  },
  {
   "cell_type": "code",
   "execution_count": null,
   "metadata": {},
   "outputs": [],
   "source": [
    "singleton_mask = get_singleton_mask(labels_matrix, count_treshold=3)\n",
    "\n",
    "# How many singletons exist?\n",
    "n_singletons = sum(singleton_mask)\n",
    "f\"{n_singletons} singletons identified!\""
   ]
  },
  {
   "cell_type": "markdown",
   "metadata": {},
   "source": [
    "### Lets run the consensus clustering"
   ]
  },
  {
   "cell_type": "code",
   "execution_count": null,
   "metadata": {},
   "outputs": [],
   "source": [
    "consensus_labels = np.full(adata.shape[0], fill_value=np.nan)\n",
    "consensus_labels[~singleton_mask] = ccHBGF(labels_matrix[~singleton_mask], random_state=0, verbose=True)"
   ]
  },
  {
   "cell_type": "code",
   "execution_count": 30,
   "metadata": {},
   "outputs": [],
   "source": [
    "leiden_label = f'consensus_leiden_r{RESOLUTION:.0f}'\n",
    "adata.obs[leiden_label] = pd.Categorical(consensus_labels)"
   ]
  },
  {
   "cell_type": "code",
   "execution_count": null,
   "metadata": {},
   "outputs": [],
   "source": [
    "sc.pl.umap(adata, color=leiden_label, frameon=False, palette='Dark2', legend_loc=None)\n",
    "sc.pl.tsne(adata, color=leiden_label, frameon=False, palette='Dark2', legend_loc=None)"
   ]
  },
  {
   "cell_type": "code",
   "execution_count": null,
   "metadata": {},
   "outputs": [],
   "source": [
    "for key in adata.uns_keys():\n",
    "    if 'color' in key:\n",
    "        del adata.uns[key]"
   ]
  },
  {
   "cell_type": "code",
   "execution_count": 34,
   "metadata": {},
   "outputs": [],
   "source": [
    "adata.write('../data/v0.3_clean_control/datasets/neuronal_raw_embed_clustered.h5ad')"
   ]
  }
 ],
 "metadata": {
  "kernelspec": {
   "display_name": "Python 3",
   "language": "python",
   "name": "python3"
  },
  "language_info": {
   "codemirror_mode": {
    "name": "ipython",
    "version": 3
   },
   "file_extension": ".py",
   "mimetype": "text/x-python",
   "name": "python",
   "nbconvert_exporter": "python",
   "pygments_lexer": "ipython3",
   "version": "3.11.10"
  }
 },
 "nbformat": 4,
 "nbformat_minor": 2
}
