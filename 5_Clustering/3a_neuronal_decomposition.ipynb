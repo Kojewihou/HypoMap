{
 "cells": [
  {
   "cell_type": "code",
   "execution_count": 2,
   "metadata": {},
   "outputs": [],
   "source": [
    "import scanpy as sc\n",
    "import pandas as pd\n",
    "\n",
    "from clustering_utils import decompose\n",
    "\n",
    "sc.set_figure_params(frameon=False, dpi=150, figsize=(8, 8))"
   ]
  },
  {
   "cell_type": "code",
   "execution_count": 3,
   "metadata": {},
   "outputs": [
    {
     "data": {
      "text/plain": [
       "AnnData object with n_obs × n_vars = 522212 × 56939\n",
       "    obs: 'Author', 'Author_CellType', 'Author_Class_Curated', 'C185_named', 'C25_named', 'C286_named', 'C2_named', 'C465_named', 'C66_named', 'C7_named', 'Cell_ID', 'Dataset', 'Macosko_CellType', 'Region', 'Region_predicted', 'Sample', 'Sample_ID', 'Source', 'Suspension', 'Suspension_bin', 'Technology', 'class_id_label', 'cluster_id_label', 'core', 'is_control', 'nt_type_label', 'pct_mito', 'subclass_id_label', 'supertype_id_label', 'total_counts', 'V1_class_propagated', 'V1_class_confidence', 'ABC_class_propagated', 'ABC_class_confidence', 'major_features', 'major_features_propagated', 'major_features_confidence'\n",
       "    var: 'gene_ids', 'feature_types', 'genome'\n",
       "    uns: 'ABC_class_propagated_colors', 'Author_Class_Curated_colors', 'Author_colors', 'Suspension_bin_mapping', 'V1_class_propagated_colors', 'major_features_colors', 'major_features_propagated_colors', 'neighbors', 'tsne', 'umap'\n",
       "    obsm: 'X_embed', 'X_tsne', 'X_umap'\n",
       "    obsp: 'connectivities', 'distances'"
      ]
     },
     "execution_count": 3,
     "metadata": {},
     "output_type": "execute_result"
    }
   ],
   "source": [
    "adata = sc.read_h5ad('../data/neuronal_raw_embed_propagated.h5ad')\n",
    "adata"
   ]
  },
  {
   "cell_type": "code",
   "execution_count": 4,
   "metadata": {},
   "outputs": [
    {
     "data": {
      "text/html": [
       "<div>\n",
       "<style scoped>\n",
       "    .dataframe tbody tr th:only-of-type {\n",
       "        vertical-align: middle;\n",
       "    }\n",
       "\n",
       "    .dataframe tbody tr th {\n",
       "        vertical-align: top;\n",
       "    }\n",
       "\n",
       "    .dataframe thead th {\n",
       "        text-align: right;\n",
       "    }\n",
       "</style>\n",
       "<table border=\"1\" class=\"dataframe\">\n",
       "  <thead>\n",
       "    <tr style=\"text-align: right;\">\n",
       "      <th></th>\n",
       "      <th>ABC_class_propagated</th>\n",
       "      <th>r1_consensus</th>\n",
       "      <th>r8_consensus</th>\n",
       "      <th>r40_consensus</th>\n",
       "      <th>r80_consensus</th>\n",
       "    </tr>\n",
       "  </thead>\n",
       "  <tbody>\n",
       "    <tr>\n",
       "      <th>AAACCCAAGATGCTTC_v2-19-A006200239-175241</th>\n",
       "      <td>3</td>\n",
       "      <td>16</td>\n",
       "      <td>179</td>\n",
       "      <td>46</td>\n",
       "      <td>323</td>\n",
       "    </tr>\n",
       "    <tr>\n",
       "      <th>AAACCCAGTACCTAAC_v2-19-A006200239-175241</th>\n",
       "      <td>0</td>\n",
       "      <td>34</td>\n",
       "      <td>90</td>\n",
       "      <td>74</td>\n",
       "      <td>485</td>\n",
       "    </tr>\n",
       "    <tr>\n",
       "      <th>AAACCCATCCGAAATC_v2-19-A006200239-175241</th>\n",
       "      <td>3</td>\n",
       "      <td>15</td>\n",
       "      <td>19</td>\n",
       "      <td>207</td>\n",
       "      <td>996</td>\n",
       "    </tr>\n",
       "    <tr>\n",
       "      <th>AAACCCATCGTAGAGG_v2-19-A006200239-175241</th>\n",
       "      <td>0</td>\n",
       "      <td>10</td>\n",
       "      <td>124</td>\n",
       "      <td>652</td>\n",
       "      <td>397</td>\n",
       "    </tr>\n",
       "    <tr>\n",
       "      <th>AAACCCATCTTAGTTC_v2-19-A006200239-175241</th>\n",
       "      <td>3</td>\n",
       "      <td>49</td>\n",
       "      <td>146</td>\n",
       "      <td>288</td>\n",
       "      <td>303</td>\n",
       "    </tr>\n",
       "  </tbody>\n",
       "</table>\n",
       "</div>"
      ],
      "text/plain": [
       "                                          ABC_class_propagated  r1_consensus  \\\n",
       "AAACCCAAGATGCTTC_v2-19-A006200239-175241                     3            16   \n",
       "AAACCCAGTACCTAAC_v2-19-A006200239-175241                     0            34   \n",
       "AAACCCATCCGAAATC_v2-19-A006200239-175241                     3            15   \n",
       "AAACCCATCGTAGAGG_v2-19-A006200239-175241                     0            10   \n",
       "AAACCCATCTTAGTTC_v2-19-A006200239-175241                     3            49   \n",
       "\n",
       "                                          r8_consensus  r40_consensus  \\\n",
       "AAACCCAAGATGCTTC_v2-19-A006200239-175241           179             46   \n",
       "AAACCCAGTACCTAAC_v2-19-A006200239-175241            90             74   \n",
       "AAACCCATCCGAAATC_v2-19-A006200239-175241            19            207   \n",
       "AAACCCATCGTAGAGG_v2-19-A006200239-175241           124            652   \n",
       "AAACCCATCTTAGTTC_v2-19-A006200239-175241           146            288   \n",
       "\n",
       "                                          r80_consensus  \n",
       "AAACCCAAGATGCTTC_v2-19-A006200239-175241            323  \n",
       "AAACCCAGTACCTAAC_v2-19-A006200239-175241            485  \n",
       "AAACCCATCCGAAATC_v2-19-A006200239-175241            996  \n",
       "AAACCCATCGTAGAGG_v2-19-A006200239-175241            397  \n",
       "AAACCCATCTTAGTTC_v2-19-A006200239-175241            303  "
      ]
     },
     "execution_count": 4,
     "metadata": {},
     "output_type": "execute_result"
    }
   ],
   "source": [
    "mrtree_labelmat = pd.read_csv('../data/neuronal_mrtree_labelmat.csv', index_col=0)\n",
    "mrtree_labelmat.head()"
   ]
  },
  {
   "cell_type": "code",
   "execution_count": 5,
   "metadata": {},
   "outputs": [],
   "source": [
    "adata.obs['temp'] = mrtree_labelmat.iloc[:, -2]"
   ]
  },
  {
   "cell_type": "code",
   "execution_count": 6,
   "metadata": {},
   "outputs": [
    {
     "name": "stderr",
     "output_type": "stream",
     "text": [
      "Decomposing Clusters: 100%|██████████| 749/749 [09:36<00:00,  1.30it/s]\n"
     ]
    }
   ],
   "source": [
    "mrtree_labelmat.iloc[:, -1] = decompose(adata, 'temp', 1, 100)"
   ]
  },
  {
   "cell_type": "code",
   "execution_count": 8,
   "metadata": {},
   "outputs": [
    {
     "data": {
      "text/plain": [
       "6594"
      ]
     },
     "execution_count": 8,
     "metadata": {},
     "output_type": "execute_result"
    }
   ],
   "source": [
    "mrtree_labelmat.iloc[:, -1].nunique()"
   ]
  },
  {
   "cell_type": "code",
   "execution_count": null,
   "metadata": {},
   "outputs": [],
   "source": [
    "df = adata.obs['temp'].str.split('_', expand=True)\n",
    "df.columns = ['prefix', 'suffix']\n",
    "\n",
    "# Convert prefix to integer if needed (for correct sorting/grouping)\n",
    "df['prefix'] = df['prefix'].astype(str)\n",
    "df['suffix'] = df['suffix'].astype(str)\n",
    "\n",
    "# Group by prefix and count the number of unique suffixes\n",
    "cluster_divisions = df.groupby('prefix')['suffix'].nunique()\n",
    "\n",
    "cluster_divisions.hist(bins=30)"
   ]
  },
  {
   "cell_type": "code",
   "execution_count": 10,
   "metadata": {},
   "outputs": [],
   "source": [
    "mrtree_labelmat.to_csv('../data/neuronal_raw_labelmat.csv')"
   ]
  }
 ],
 "metadata": {
  "kernelspec": {
   "display_name": "Python 3",
   "language": "python",
   "name": "python3"
  },
  "language_info": {
   "codemirror_mode": {
    "name": "ipython",
    "version": 3
   },
   "file_extension": ".py",
   "mimetype": "text/x-python",
   "name": "python",
   "nbconvert_exporter": "python",
   "pygments_lexer": "ipython3",
   "version": "3.11.10"
  }
 },
 "nbformat": 4,
 "nbformat_minor": 2
}
